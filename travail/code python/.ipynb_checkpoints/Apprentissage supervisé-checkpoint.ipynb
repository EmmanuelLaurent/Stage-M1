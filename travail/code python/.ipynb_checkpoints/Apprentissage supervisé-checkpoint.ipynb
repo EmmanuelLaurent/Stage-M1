{
 "cells": [
  {
   "cell_type": "code",
   "execution_count": 1,
   "id": "a11bdd5b",
   "metadata": {},
   "outputs": [],
   "source": [
    "import numpy as np\n",
    "import matplotlib.pyplot as plt\n",
    "import pandas as pd\n",
    "from sklearn import datasets\n",
    "from sklearn.ensemble import RandomForestClassifier, ExtraTreesClassifier\n",
    "from sklearn.model_selection import train_test_split\n",
    "from sklearn import metrics\n",
    "import lime\n",
    "import lime.lime_tabular\n",
    "from __future__ import print_function\n",
    "import shap\n",
    "import numpy as np\n",
    "import matplotlib.pyplot as plt\n",
    "import pandas as pd\n",
    "from sklearn import datasets\n",
    "from sklearn.ensemble import RandomForestClassifier\n",
    "from sklearn.model_selection import train_test_split\n",
    "from sklearn import metrics\n",
    "from sklearn.model_selection import train_test_split\n",
    "from sklearn.model_selection import RandomizedSearchCV\n",
    "from sklearn.datasets import fetch_lfw_people\n",
    "from sklearn.metrics import classification_report\n",
    "from sklearn.metrics import ConfusionMatrixDisplay\n",
    "from sklearn.decomposition import PCA\n",
    "from sklearn.svm import SVC\n",
    "from sklearn.utils.fixes import loguniform\n",
    "from sklearn.preprocessing import normalize\n",
    "from tpot import TPOTClassifier\n",
    "from sklearn.ensemble import GradientBoostingClassifier\n",
    "from sklearn.feature_selection import VarianceThreshold\n",
    "from sklearn.linear_model import SGDClassifier\n",
    "from sklearn.model_selection import train_test_split\n",
    "from sklearn.pipeline import make_pipeline, make_union\n",
    "from sklearn.preprocessing import PolynomialFeatures\n",
    "from tpot.builtins import StackingEstimator\n",
    "from sklearn.linear_model import SGDClassifier\n",
    "from tpot.builtins import StackingEstimator\n",
    "from sklearn.preprocessing import FunctionTransformer\n",
    "from copy import copy\n",
    "from sklearn.neighbors import KNeighborsClassifier\n",
    "from sklearn.model_selection import GridSearchCV, cross_val_score"
   ]
  },
  {
   "cell_type": "markdown",
   "id": "78049fe9",
   "metadata": {},
   "source": [
    "# Import de la bdd"
   ]
  },
  {
   "cell_type": "code",
   "execution_count": 2,
   "id": "e174d4e0",
   "metadata": {},
   "outputs": [],
   "source": [
    "df = pd.read_csv('C:/Users/orkad/Desktop/stage M1/datasets/datasets fonctionnels/cervus/data_cervus.csv')\n",
    "df = df.rename(columns = {'Unnamed: 0': 'label'})\n",
    "df = df.fillna(0) "
   ]
  },
  {
   "cell_type": "markdown",
   "id": "edb2d648",
   "metadata": {},
   "source": [
    "# Renomage des échantillons"
   ]
  },
  {
   "cell_type": "code",
   "execution_count": 3,
   "id": "e8dc808e",
   "metadata": {},
   "outputs": [
    {
     "data": {
      "text/html": [
       "<div>\n",
       "<style scoped>\n",
       "    .dataframe tbody tr th:only-of-type {\n",
       "        vertical-align: middle;\n",
       "    }\n",
       "\n",
       "    .dataframe tbody tr th {\n",
       "        vertical-align: top;\n",
       "    }\n",
       "\n",
       "    .dataframe thead th {\n",
       "        text-align: right;\n",
       "    }\n",
       "</style>\n",
       "<table border=\"1\" class=\"dataframe\">\n",
       "  <thead>\n",
       "    <tr style=\"text-align: right;\">\n",
       "      <th></th>\n",
       "      <th>label</th>\n",
       "      <th>698.35785</th>\n",
       "      <th>701.33972</th>\n",
       "      <th>722.35846</th>\n",
       "      <th>728.33232</th>\n",
       "      <th>738.36675</th>\n",
       "      <th>758.3665</th>\n",
       "      <th>784.43591</th>\n",
       "      <th>785.38418</th>\n",
       "      <th>811.40606</th>\n",
       "      <th>...</th>\n",
       "      <th>4365.08859</th>\n",
       "      <th>4375.12146</th>\n",
       "      <th>4387.06383</th>\n",
       "      <th>4391.11539</th>\n",
       "      <th>4479.12101</th>\n",
       "      <th>4480.09941</th>\n",
       "      <th>4493.13648</th>\n",
       "      <th>4495.10686</th>\n",
       "      <th>4507.14868</th>\n",
       "      <th>4523.14453</th>\n",
       "    </tr>\n",
       "  </thead>\n",
       "  <tbody>\n",
       "    <tr>\n",
       "      <th>0</th>\n",
       "      <td>Autre</td>\n",
       "      <td>0.0</td>\n",
       "      <td>0.0</td>\n",
       "      <td>0.0</td>\n",
       "      <td>0.0</td>\n",
       "      <td>0.0</td>\n",
       "      <td>0.0</td>\n",
       "      <td>0.0</td>\n",
       "      <td>0.0</td>\n",
       "      <td>0.0</td>\n",
       "      <td>...</td>\n",
       "      <td>0.0</td>\n",
       "      <td>0.0</td>\n",
       "      <td>0.0</td>\n",
       "      <td>0.0</td>\n",
       "      <td>0.0</td>\n",
       "      <td>0.0</td>\n",
       "      <td>0.0</td>\n",
       "      <td>0.0</td>\n",
       "      <td>1236710.0</td>\n",
       "      <td>0.0</td>\n",
       "    </tr>\n",
       "    <tr>\n",
       "      <th>1</th>\n",
       "      <td>Autre</td>\n",
       "      <td>0.0</td>\n",
       "      <td>0.0</td>\n",
       "      <td>0.0</td>\n",
       "      <td>0.0</td>\n",
       "      <td>0.0</td>\n",
       "      <td>0.0</td>\n",
       "      <td>0.0</td>\n",
       "      <td>0.0</td>\n",
       "      <td>0.0</td>\n",
       "      <td>...</td>\n",
       "      <td>0.0</td>\n",
       "      <td>0.0</td>\n",
       "      <td>0.0</td>\n",
       "      <td>0.0</td>\n",
       "      <td>0.0</td>\n",
       "      <td>0.0</td>\n",
       "      <td>0.0</td>\n",
       "      <td>0.0</td>\n",
       "      <td>1030345.0</td>\n",
       "      <td>0.0</td>\n",
       "    </tr>\n",
       "    <tr>\n",
       "      <th>2</th>\n",
       "      <td>Autre</td>\n",
       "      <td>0.0</td>\n",
       "      <td>0.0</td>\n",
       "      <td>0.0</td>\n",
       "      <td>0.0</td>\n",
       "      <td>0.0</td>\n",
       "      <td>0.0</td>\n",
       "      <td>0.0</td>\n",
       "      <td>0.0</td>\n",
       "      <td>0.0</td>\n",
       "      <td>...</td>\n",
       "      <td>0.0</td>\n",
       "      <td>0.0</td>\n",
       "      <td>0.0</td>\n",
       "      <td>0.0</td>\n",
       "      <td>0.0</td>\n",
       "      <td>0.0</td>\n",
       "      <td>0.0</td>\n",
       "      <td>0.0</td>\n",
       "      <td>968308.0</td>\n",
       "      <td>294259.0</td>\n",
       "    </tr>\n",
       "    <tr>\n",
       "      <th>3</th>\n",
       "      <td>Autre</td>\n",
       "      <td>0.0</td>\n",
       "      <td>0.0</td>\n",
       "      <td>0.0</td>\n",
       "      <td>0.0</td>\n",
       "      <td>0.0</td>\n",
       "      <td>0.0</td>\n",
       "      <td>0.0</td>\n",
       "      <td>0.0</td>\n",
       "      <td>0.0</td>\n",
       "      <td>...</td>\n",
       "      <td>0.0</td>\n",
       "      <td>0.0</td>\n",
       "      <td>0.0</td>\n",
       "      <td>0.0</td>\n",
       "      <td>0.0</td>\n",
       "      <td>0.0</td>\n",
       "      <td>0.0</td>\n",
       "      <td>0.0</td>\n",
       "      <td>0.0</td>\n",
       "      <td>0.0</td>\n",
       "    </tr>\n",
       "    <tr>\n",
       "      <th>4</th>\n",
       "      <td>Autre</td>\n",
       "      <td>0.0</td>\n",
       "      <td>0.0</td>\n",
       "      <td>0.0</td>\n",
       "      <td>0.0</td>\n",
       "      <td>0.0</td>\n",
       "      <td>323421.0</td>\n",
       "      <td>0.0</td>\n",
       "      <td>429004.0</td>\n",
       "      <td>0.0</td>\n",
       "      <td>...</td>\n",
       "      <td>0.0</td>\n",
       "      <td>0.0</td>\n",
       "      <td>0.0</td>\n",
       "      <td>0.0</td>\n",
       "      <td>0.0</td>\n",
       "      <td>0.0</td>\n",
       "      <td>0.0</td>\n",
       "      <td>0.0</td>\n",
       "      <td>0.0</td>\n",
       "      <td>0.0</td>\n",
       "    </tr>\n",
       "    <tr>\n",
       "      <th>...</th>\n",
       "      <td>...</td>\n",
       "      <td>...</td>\n",
       "      <td>...</td>\n",
       "      <td>...</td>\n",
       "      <td>...</td>\n",
       "      <td>...</td>\n",
       "      <td>...</td>\n",
       "      <td>...</td>\n",
       "      <td>...</td>\n",
       "      <td>...</td>\n",
       "      <td>...</td>\n",
       "      <td>...</td>\n",
       "      <td>...</td>\n",
       "      <td>...</td>\n",
       "      <td>...</td>\n",
       "      <td>...</td>\n",
       "      <td>...</td>\n",
       "      <td>...</td>\n",
       "      <td>...</td>\n",
       "      <td>...</td>\n",
       "      <td>...</td>\n",
       "    </tr>\n",
       "    <tr>\n",
       "      <th>119</th>\n",
       "      <td>meagC</td>\n",
       "      <td>0.0</td>\n",
       "      <td>0.0</td>\n",
       "      <td>165278.0</td>\n",
       "      <td>202820.0</td>\n",
       "      <td>0.0</td>\n",
       "      <td>0.0</td>\n",
       "      <td>0.0</td>\n",
       "      <td>0.0</td>\n",
       "      <td>154355.0</td>\n",
       "      <td>...</td>\n",
       "      <td>3372383.0</td>\n",
       "      <td>0.0</td>\n",
       "      <td>478751.0</td>\n",
       "      <td>0.0</td>\n",
       "      <td>0.0</td>\n",
       "      <td>1651319.0</td>\n",
       "      <td>0.0</td>\n",
       "      <td>0.0</td>\n",
       "      <td>0.0</td>\n",
       "      <td>0.0</td>\n",
       "    </tr>\n",
       "    <tr>\n",
       "      <th>120</th>\n",
       "      <td>meagC</td>\n",
       "      <td>0.0</td>\n",
       "      <td>0.0</td>\n",
       "      <td>0.0</td>\n",
       "      <td>0.0</td>\n",
       "      <td>0.0</td>\n",
       "      <td>0.0</td>\n",
       "      <td>0.0</td>\n",
       "      <td>0.0</td>\n",
       "      <td>0.0</td>\n",
       "      <td>...</td>\n",
       "      <td>6258022.0</td>\n",
       "      <td>0.0</td>\n",
       "      <td>498120.0</td>\n",
       "      <td>0.0</td>\n",
       "      <td>0.0</td>\n",
       "      <td>2568663.0</td>\n",
       "      <td>0.0</td>\n",
       "      <td>314859.0</td>\n",
       "      <td>0.0</td>\n",
       "      <td>0.0</td>\n",
       "    </tr>\n",
       "    <tr>\n",
       "      <th>121</th>\n",
       "      <td>meagC</td>\n",
       "      <td>0.0</td>\n",
       "      <td>0.0</td>\n",
       "      <td>0.0</td>\n",
       "      <td>0.0</td>\n",
       "      <td>0.0</td>\n",
       "      <td>0.0</td>\n",
       "      <td>0.0</td>\n",
       "      <td>0.0</td>\n",
       "      <td>0.0</td>\n",
       "      <td>...</td>\n",
       "      <td>2213999.0</td>\n",
       "      <td>0.0</td>\n",
       "      <td>0.0</td>\n",
       "      <td>0.0</td>\n",
       "      <td>0.0</td>\n",
       "      <td>1146087.0</td>\n",
       "      <td>0.0</td>\n",
       "      <td>0.0</td>\n",
       "      <td>0.0</td>\n",
       "      <td>0.0</td>\n",
       "    </tr>\n",
       "    <tr>\n",
       "      <th>122</th>\n",
       "      <td>meagC</td>\n",
       "      <td>0.0</td>\n",
       "      <td>0.0</td>\n",
       "      <td>0.0</td>\n",
       "      <td>0.0</td>\n",
       "      <td>0.0</td>\n",
       "      <td>0.0</td>\n",
       "      <td>0.0</td>\n",
       "      <td>0.0</td>\n",
       "      <td>0.0</td>\n",
       "      <td>...</td>\n",
       "      <td>1723556.0</td>\n",
       "      <td>0.0</td>\n",
       "      <td>0.0</td>\n",
       "      <td>0.0</td>\n",
       "      <td>0.0</td>\n",
       "      <td>449057.0</td>\n",
       "      <td>0.0</td>\n",
       "      <td>0.0</td>\n",
       "      <td>0.0</td>\n",
       "      <td>0.0</td>\n",
       "    </tr>\n",
       "    <tr>\n",
       "      <th>123</th>\n",
       "      <td>meagC</td>\n",
       "      <td>0.0</td>\n",
       "      <td>0.0</td>\n",
       "      <td>0.0</td>\n",
       "      <td>0.0</td>\n",
       "      <td>0.0</td>\n",
       "      <td>0.0</td>\n",
       "      <td>0.0</td>\n",
       "      <td>0.0</td>\n",
       "      <td>0.0</td>\n",
       "      <td>...</td>\n",
       "      <td>450283.0</td>\n",
       "      <td>0.0</td>\n",
       "      <td>0.0</td>\n",
       "      <td>0.0</td>\n",
       "      <td>0.0</td>\n",
       "      <td>0.0</td>\n",
       "      <td>0.0</td>\n",
       "      <td>0.0</td>\n",
       "      <td>0.0</td>\n",
       "      <td>0.0</td>\n",
       "    </tr>\n",
       "  </tbody>\n",
       "</table>\n",
       "<p>124 rows × 986 columns</p>\n",
       "</div>"
      ],
      "text/plain": [
       "     label  698.35785  701.33972  722.35846  728.33232  738.36675  758.3665  \\\n",
       "0    Autre        0.0        0.0        0.0        0.0        0.0       0.0   \n",
       "1    Autre        0.0        0.0        0.0        0.0        0.0       0.0   \n",
       "2    Autre        0.0        0.0        0.0        0.0        0.0       0.0   \n",
       "3    Autre        0.0        0.0        0.0        0.0        0.0       0.0   \n",
       "4    Autre        0.0        0.0        0.0        0.0        0.0  323421.0   \n",
       "..     ...        ...        ...        ...        ...        ...       ...   \n",
       "119  meagC        0.0        0.0   165278.0   202820.0        0.0       0.0   \n",
       "120  meagC        0.0        0.0        0.0        0.0        0.0       0.0   \n",
       "121  meagC        0.0        0.0        0.0        0.0        0.0       0.0   \n",
       "122  meagC        0.0        0.0        0.0        0.0        0.0       0.0   \n",
       "123  meagC        0.0        0.0        0.0        0.0        0.0       0.0   \n",
       "\n",
       "     784.43591  785.38418  811.40606  ...  4365.08859  4375.12146  4387.06383  \\\n",
       "0          0.0        0.0        0.0  ...         0.0         0.0         0.0   \n",
       "1          0.0        0.0        0.0  ...         0.0         0.0         0.0   \n",
       "2          0.0        0.0        0.0  ...         0.0         0.0         0.0   \n",
       "3          0.0        0.0        0.0  ...         0.0         0.0         0.0   \n",
       "4          0.0   429004.0        0.0  ...         0.0         0.0         0.0   \n",
       "..         ...        ...        ...  ...         ...         ...         ...   \n",
       "119        0.0        0.0   154355.0  ...   3372383.0         0.0    478751.0   \n",
       "120        0.0        0.0        0.0  ...   6258022.0         0.0    498120.0   \n",
       "121        0.0        0.0        0.0  ...   2213999.0         0.0         0.0   \n",
       "122        0.0        0.0        0.0  ...   1723556.0         0.0         0.0   \n",
       "123        0.0        0.0        0.0  ...    450283.0         0.0         0.0   \n",
       "\n",
       "     4391.11539  4479.12101  4480.09941  4493.13648  4495.10686  4507.14868  \\\n",
       "0           0.0         0.0         0.0         0.0         0.0   1236710.0   \n",
       "1           0.0         0.0         0.0         0.0         0.0   1030345.0   \n",
       "2           0.0         0.0         0.0         0.0         0.0    968308.0   \n",
       "3           0.0         0.0         0.0         0.0         0.0         0.0   \n",
       "4           0.0         0.0         0.0         0.0         0.0         0.0   \n",
       "..          ...         ...         ...         ...         ...         ...   \n",
       "119         0.0         0.0   1651319.0         0.0         0.0         0.0   \n",
       "120         0.0         0.0   2568663.0         0.0    314859.0         0.0   \n",
       "121         0.0         0.0   1146087.0         0.0         0.0         0.0   \n",
       "122         0.0         0.0    449057.0         0.0         0.0         0.0   \n",
       "123         0.0         0.0         0.0         0.0         0.0         0.0   \n",
       "\n",
       "     4523.14453  \n",
       "0           0.0  \n",
       "1           0.0  \n",
       "2      294259.0  \n",
       "3           0.0  \n",
       "4           0.0  \n",
       "..          ...  \n",
       "119         0.0  \n",
       "120         0.0  \n",
       "121         0.0  \n",
       "122         0.0  \n",
       "123         0.0  \n",
       "\n",
       "[124 rows x 986 columns]"
      ]
     },
     "execution_count": 3,
     "metadata": {},
     "output_type": "execute_result"
    }
   ],
   "source": [
    "n = len(df.index)\n",
    "x = 0\n",
    "while x < n:\n",
    "    a = 'cerf' in df.iloc[x,0]\n",
    "    b = 'daim' in df.iloc[x,0]\n",
    "    c = 'meagC' in df.iloc[x,0]\n",
    "    if a == True :\n",
    "        df.iloc[x,0] = 'cerf'\n",
    "    elif b == True :\n",
    "        df.iloc[x,0] = 'daim'\n",
    "        \n",
    "    elif c == True :\n",
    "        df.iloc[x,0] = 'meagC'\n",
    "    else:\n",
    "        df.iloc[x,0] = 'Autre' \n",
    "    x = x+1       \n",
    "df    \n",
    "# c"
   ]
  },
  {
   "cell_type": "markdown",
   "id": "1aac59b6",
   "metadata": {},
   "source": [
    "# Choix de normalisation "
   ]
  },
  {
   "cell_type": "code",
   "execution_count": 4,
   "id": "92386415",
   "metadata": {},
   "outputs": [],
   "source": [
    "y = df['label']\n",
    "X = df.drop('label', axis=1)"
   ]
  },
  {
   "cell_type": "code",
   "execution_count": 5,
   "id": "ee71996e",
   "metadata": {},
   "outputs": [],
   "source": [
    "X = X.apply(lambda x: x/x.max(), axis=1)  # pour base de données normalisé par le maximum de la ligne\n",
    "#X = X.apply(lambda x: [1 if x > 0 else 0 for x in x]) # pour base de données normalisé par 0 et 1\n",
    "#X = X.to_numpy()"
   ]
  },
  {
   "cell_type": "code",
   "execution_count": 6,
   "id": "62eec68a",
   "metadata": {},
   "outputs": [],
   "source": [
    "#y, uniques = pd.factorize(y) # on appel une autre variale afin d'y inclure l'Index"
   ]
  },
  {
   "cell_type": "markdown",
   "id": "5164a394",
   "metadata": {},
   "source": [
    "# Split train et test set"
   ]
  },
  {
   "cell_type": "code",
   "execution_count": 7,
   "id": "d9a170e0",
   "metadata": {},
   "outputs": [],
   "source": [
    "X_train, X_test, y_train, y_test = train_test_split(X, y, train_size=0.80, test_size=0.20, random_state=0, stratify=y) #stratification afin d'obtenir des classes homogènes"
   ]
  },
  {
   "cell_type": "markdown",
   "id": "ef182cb3",
   "metadata": {},
   "source": [
    "# Randomforest"
   ]
  },
  {
   "cell_type": "code",
   "execution_count": 8,
   "id": "a96351cf",
   "metadata": {
    "scrolled": true
   },
   "outputs": [
    {
     "name": "stdout",
     "output_type": "stream",
     "text": [
      "Accuracy: 0.84\n",
      "f-mesure: 0.8399999999999999\n",
      "              precision    recall  f1-score   support\n",
      "\n",
      "       Autre       0.83      1.00      0.90        19\n",
      "        cerf       0.00      0.00      0.00         2\n",
      "        daim       1.00      0.33      0.50         3\n",
      "       meagC       1.00      1.00      1.00         1\n",
      "\n",
      "    accuracy                           0.84        25\n",
      "   macro avg       0.71      0.58      0.60        25\n",
      "weighted avg       0.79      0.84      0.79        25\n",
      "\n"
     ]
    },
    {
     "name": "stderr",
     "output_type": "stream",
     "text": [
      "Precision and F-score are ill-defined and being set to 0.0 in labels with no predicted samples. Use `zero_division` parameter to control this behavior.\n",
      "Precision and F-score are ill-defined and being set to 0.0 in labels with no predicted samples. Use `zero_division` parameter to control this behavior.\n",
      "Precision and F-score are ill-defined and being set to 0.0 in labels with no predicted samples. Use `zero_division` parameter to control this behavior.\n"
     ]
    },
    {
     "data": {
      "text/plain": [
       "0.84"
      ]
     },
     "execution_count": 8,
     "metadata": {},
     "output_type": "execute_result"
    }
   ],
   "source": [
    "clf = RandomForestClassifier(n_estimators=500, random_state=0)\n",
    "clf.fit(X_train, y_train)\n",
    "y_pred = clf.predict(X_test)\n",
    "print(\"Accuracy:\", metrics.accuracy_score(y_test, y_pred))\n",
    "print(\"f-mesure:\", metrics.f1_score(y_test, y_pred, average='micro'))\n",
    "print(metrics.classification_report(y_test, y_pred))\n",
    "metrics.accuracy_score(y_test, y_pred)"
   ]
  },
  {
   "cell_type": "markdown",
   "id": "680e2dd7",
   "metadata": {},
   "source": [
    "# Recherche des meilleurs paramtères et Cross validation"
   ]
  },
  {
   "cell_type": "code",
   "execution_count": 9,
   "id": "ed617b2e",
   "metadata": {},
   "outputs": [],
   "source": [
    "grid = { \n",
    "    'n_estimators': [10,20,50,100,200,300,400,500],\n",
    "    'criterion' :['gini','entropy','log_loss'],\n",
    "    'random_state' : [0]\n",
    "}"
   ]
  },
  {
   "cell_type": "code",
   "execution_count": 10,
   "id": "d68f8e25",
   "metadata": {
    "scrolled": false
   },
   "outputs": [
    {
     "data": {
      "text/html": [
       "<style>#sk-container-id-1 {color: black;background-color: white;}#sk-container-id-1 pre{padding: 0;}#sk-container-id-1 div.sk-toggleable {background-color: white;}#sk-container-id-1 label.sk-toggleable__label {cursor: pointer;display: block;width: 100%;margin-bottom: 0;padding: 0.3em;box-sizing: border-box;text-align: center;}#sk-container-id-1 label.sk-toggleable__label-arrow:before {content: \"▸\";float: left;margin-right: 0.25em;color: #696969;}#sk-container-id-1 label.sk-toggleable__label-arrow:hover:before {color: black;}#sk-container-id-1 div.sk-estimator:hover label.sk-toggleable__label-arrow:before {color: black;}#sk-container-id-1 div.sk-toggleable__content {max-height: 0;max-width: 0;overflow: hidden;text-align: left;background-color: #f0f8ff;}#sk-container-id-1 div.sk-toggleable__content pre {margin: 0.2em;color: black;border-radius: 0.25em;background-color: #f0f8ff;}#sk-container-id-1 input.sk-toggleable__control:checked~div.sk-toggleable__content {max-height: 200px;max-width: 100%;overflow: auto;}#sk-container-id-1 input.sk-toggleable__control:checked~label.sk-toggleable__label-arrow:before {content: \"▾\";}#sk-container-id-1 div.sk-estimator input.sk-toggleable__control:checked~label.sk-toggleable__label {background-color: #d4ebff;}#sk-container-id-1 div.sk-label input.sk-toggleable__control:checked~label.sk-toggleable__label {background-color: #d4ebff;}#sk-container-id-1 input.sk-hidden--visually {border: 0;clip: rect(1px 1px 1px 1px);clip: rect(1px, 1px, 1px, 1px);height: 1px;margin: -1px;overflow: hidden;padding: 0;position: absolute;width: 1px;}#sk-container-id-1 div.sk-estimator {font-family: monospace;background-color: #f0f8ff;border: 1px dotted black;border-radius: 0.25em;box-sizing: border-box;margin-bottom: 0.5em;}#sk-container-id-1 div.sk-estimator:hover {background-color: #d4ebff;}#sk-container-id-1 div.sk-parallel-item::after {content: \"\";width: 100%;border-bottom: 1px solid gray;flex-grow: 1;}#sk-container-id-1 div.sk-label:hover label.sk-toggleable__label {background-color: #d4ebff;}#sk-container-id-1 div.sk-serial::before {content: \"\";position: absolute;border-left: 1px solid gray;box-sizing: border-box;top: 0;bottom: 0;left: 50%;z-index: 0;}#sk-container-id-1 div.sk-serial {display: flex;flex-direction: column;align-items: center;background-color: white;padding-right: 0.2em;padding-left: 0.2em;position: relative;}#sk-container-id-1 div.sk-item {position: relative;z-index: 1;}#sk-container-id-1 div.sk-parallel {display: flex;align-items: stretch;justify-content: center;background-color: white;position: relative;}#sk-container-id-1 div.sk-item::before, #sk-container-id-1 div.sk-parallel-item::before {content: \"\";position: absolute;border-left: 1px solid gray;box-sizing: border-box;top: 0;bottom: 0;left: 50%;z-index: -1;}#sk-container-id-1 div.sk-parallel-item {display: flex;flex-direction: column;z-index: 1;position: relative;background-color: white;}#sk-container-id-1 div.sk-parallel-item:first-child::after {align-self: flex-end;width: 50%;}#sk-container-id-1 div.sk-parallel-item:last-child::after {align-self: flex-start;width: 50%;}#sk-container-id-1 div.sk-parallel-item:only-child::after {width: 0;}#sk-container-id-1 div.sk-dashed-wrapped {border: 1px dashed gray;margin: 0 0.4em 0.5em 0.4em;box-sizing: border-box;padding-bottom: 0.4em;background-color: white;}#sk-container-id-1 div.sk-label label {font-family: monospace;font-weight: bold;display: inline-block;line-height: 1.2em;}#sk-container-id-1 div.sk-label-container {text-align: center;}#sk-container-id-1 div.sk-container {/* jupyter's `normalize.less` sets `[hidden] { display: none; }` but bootstrap.min.css set `[hidden] { display: none !important; }` so we also need the `!important` here to be able to override the default hidden behavior on the sphinx rendered scikit-learn.org. See: https://github.com/scikit-learn/scikit-learn/issues/21755 */display: inline-block !important;position: relative;}#sk-container-id-1 div.sk-text-repr-fallback {display: none;}</style><div id=\"sk-container-id-1\" class=\"sk-top-container\"><div class=\"sk-text-repr-fallback\"><pre>GridSearchCV(cv=5, estimator=RandomForestClassifier(),\n",
       "             param_grid={&#x27;criterion&#x27;: [&#x27;gini&#x27;, &#x27;entropy&#x27;, &#x27;log_loss&#x27;],\n",
       "                         &#x27;n_estimators&#x27;: [10, 20, 50, 100, 200, 300, 400, 500],\n",
       "                         &#x27;random_state&#x27;: [0]})</pre><b>In a Jupyter environment, please rerun this cell to show the HTML representation or trust the notebook. <br />On GitHub, the HTML representation is unable to render, please try loading this page with nbviewer.org.</b></div><div class=\"sk-container\" hidden><div class=\"sk-item sk-dashed-wrapped\"><div class=\"sk-label-container\"><div class=\"sk-label sk-toggleable\"><input class=\"sk-toggleable__control sk-hidden--visually\" id=\"sk-estimator-id-1\" type=\"checkbox\" ><label for=\"sk-estimator-id-1\" class=\"sk-toggleable__label sk-toggleable__label-arrow\">GridSearchCV</label><div class=\"sk-toggleable__content\"><pre>GridSearchCV(cv=5, estimator=RandomForestClassifier(),\n",
       "             param_grid={&#x27;criterion&#x27;: [&#x27;gini&#x27;, &#x27;entropy&#x27;, &#x27;log_loss&#x27;],\n",
       "                         &#x27;n_estimators&#x27;: [10, 20, 50, 100, 200, 300, 400, 500],\n",
       "                         &#x27;random_state&#x27;: [0]})</pre></div></div></div><div class=\"sk-parallel\"><div class=\"sk-parallel-item\"><div class=\"sk-item\"><div class=\"sk-label-container\"><div class=\"sk-label sk-toggleable\"><input class=\"sk-toggleable__control sk-hidden--visually\" id=\"sk-estimator-id-2\" type=\"checkbox\" ><label for=\"sk-estimator-id-2\" class=\"sk-toggleable__label sk-toggleable__label-arrow\">estimator: RandomForestClassifier</label><div class=\"sk-toggleable__content\"><pre>RandomForestClassifier()</pre></div></div></div><div class=\"sk-serial\"><div class=\"sk-item\"><div class=\"sk-estimator sk-toggleable\"><input class=\"sk-toggleable__control sk-hidden--visually\" id=\"sk-estimator-id-3\" type=\"checkbox\" ><label for=\"sk-estimator-id-3\" class=\"sk-toggleable__label sk-toggleable__label-arrow\">RandomForestClassifier</label><div class=\"sk-toggleable__content\"><pre>RandomForestClassifier()</pre></div></div></div></div></div></div></div></div></div></div>"
      ],
      "text/plain": [
       "GridSearchCV(cv=5, estimator=RandomForestClassifier(),\n",
       "             param_grid={'criterion': ['gini', 'entropy', 'log_loss'],\n",
       "                         'n_estimators': [10, 20, 50, 100, 200, 300, 400, 500],\n",
       "                         'random_state': [0]})"
      ]
     },
     "execution_count": 10,
     "metadata": {},
     "output_type": "execute_result"
    }
   ],
   "source": [
    "rf_cv = GridSearchCV(estimator=RandomForestClassifier(), param_grid=grid, cv= 5)\n",
    "rf_cv.fit(X_train, y_train)"
   ]
  },
  {
   "cell_type": "code",
   "execution_count": 11,
   "id": "67d9810b",
   "metadata": {},
   "outputs": [
    {
     "data": {
      "text/plain": [
       "{'criterion': 'entropy', 'n_estimators': 10, 'random_state': 0}"
      ]
     },
     "execution_count": 11,
     "metadata": {},
     "output_type": "execute_result"
    }
   ],
   "source": [
    "rf_cv.best_params_"
   ]
  },
  {
   "cell_type": "code",
   "execution_count": 12,
   "id": "54e7cdbf",
   "metadata": {},
   "outputs": [
    {
     "data": {
      "text/plain": [
       "0.9194736842105262"
      ]
     },
     "execution_count": 12,
     "metadata": {},
     "output_type": "execute_result"
    }
   ],
   "source": [
    "rf_cv.best_score_ # score atteint avec les paramètres définies par best params"
   ]
  },
  {
   "cell_type": "raw",
   "id": "a9e744c6",
   "metadata": {},
   "source": [
    "méthode applicable pour tout les algos"
   ]
  },
  {
   "cell_type": "markdown",
   "id": "5bb89f8c",
   "metadata": {},
   "source": [
    "# TPOT Pipeline"
   ]
  },
  {
   "cell_type": "code",
   "execution_count": 13,
   "id": "59aff134",
   "metadata": {},
   "outputs": [],
   "source": [
    "df['label'], uniques = pd.factorize(df['label']) # on appel une autre variale afin d'y inclure l'Index"
   ]
  },
  {
   "cell_type": "code",
   "execution_count": 14,
   "id": "523dd3d2",
   "metadata": {},
   "outputs": [],
   "source": [
    "features = df.drop('label', axis=1)\n",
    "#features = features.apply(lambda x: x/x.max(), axis=1)  # pour base de données normalisé par le maximum de la ligne\n",
    "features = features.apply(lambda x: [1 if x > 0 else 0 for x in x]) # pour base de données normalisé par 0 et 1"
   ]
  },
  {
   "cell_type": "code",
   "execution_count": 15,
   "id": "97e25678",
   "metadata": {},
   "outputs": [],
   "source": [
    "training_features, testing_features, training_target, testing_target = \\\n",
    "            train_test_split(features, df['label'], random_state=0, stratify=df['label'])"
   ]
  },
  {
   "cell_type": "code",
   "execution_count": 16,
   "id": "99eda0dd",
   "metadata": {},
   "outputs": [],
   "source": [
    "exported_pipeline = make_pipeline(\n",
    "    make_union(\n",
    "        FunctionTransformer(copy),\n",
    "        StackingEstimator(estimator=ExtraTreesClassifier(bootstrap=True, criterion=\"gini\", max_features=0.6500000000000001, min_samples_leaf=9, min_samples_split=6, n_estimators=100))\n",
    "    ),\n",
    "    StackingEstimator(estimator=RandomForestClassifier(bootstrap=False, criterion=\"entropy\", max_features=0.9500000000000001, min_samples_leaf=5, min_samples_split=18, n_estimators=100)),\n",
    "    KNeighborsClassifier(n_neighbors=1, p=1, weights=\"uniform\")\n",
    ")\n",
    "# A changer en fonction du pipeline"
   ]
  },
  {
   "cell_type": "code",
   "execution_count": 17,
   "id": "ee4df9c1",
   "metadata": {},
   "outputs": [
    {
     "name": "stderr",
     "output_type": "stream",
     "text": [
      "X does not have valid feature names, but ExtraTreesClassifier was fitted with feature names\n",
      "X does not have valid feature names, but ExtraTreesClassifier was fitted with feature names\n"
     ]
    },
    {
     "name": "stdout",
     "output_type": "stream",
     "text": [
      "Accuracy: 0.967741935483871\n",
      "f-mesure: 0.967741935483871\n",
      "              precision    recall  f1-score   support\n",
      "\n",
      "           0       0.96      1.00      0.98        24\n",
      "           1       1.00      1.00      1.00         2\n",
      "           2       1.00      0.67      0.80         3\n",
      "           3       1.00      1.00      1.00         2\n",
      "\n",
      "    accuracy                           0.97        31\n",
      "   macro avg       0.99      0.92      0.94        31\n",
      "weighted avg       0.97      0.97      0.96        31\n",
      "\n"
     ]
    },
    {
     "name": "stderr",
     "output_type": "stream",
     "text": [
      "X does not have valid feature names, but ExtraTreesClassifier was fitted with feature names\n",
      "X does not have valid feature names, but ExtraTreesClassifier was fitted with feature names\n"
     ]
    },
    {
     "data": {
      "text/plain": [
       "0.967741935483871"
      ]
     },
     "execution_count": 17,
     "metadata": {},
     "output_type": "execute_result"
    }
   ],
   "source": [
    "exported_pipeline.fit(training_features, training_target)\n",
    "results = exported_pipeline.predict(testing_features)\n",
    "print(\"Accuracy:\", metrics.accuracy_score(testing_target, results))\n",
    "print(\"f-mesure:\", metrics.f1_score(testing_target, results, average='micro'))\n",
    "print(metrics.classification_report(testing_target, results))\n",
    "metrics.accuracy_score(testing_target, results)"
   ]
  },
  {
   "cell_type": "code",
   "execution_count": 18,
   "id": "aa186d43",
   "metadata": {
    "scrolled": true
   },
   "outputs": [
    {
     "name": "stderr",
     "output_type": "stream",
     "text": [
      "X does not have valid feature names, but ExtraTreesClassifier was fitted with feature names\n",
      "X does not have valid feature names, but ExtraTreesClassifier was fitted with feature names\n",
      "X does not have valid feature names, but ExtraTreesClassifier was fitted with feature names\n",
      "X does not have valid feature names, but ExtraTreesClassifier was fitted with feature names\n",
      "X does not have valid feature names, but ExtraTreesClassifier was fitted with feature names\n",
      "X does not have valid feature names, but ExtraTreesClassifier was fitted with feature names\n",
      "X does not have valid feature names, but ExtraTreesClassifier was fitted with feature names\n",
      "X does not have valid feature names, but ExtraTreesClassifier was fitted with feature names\n",
      "X does not have valid feature names, but ExtraTreesClassifier was fitted with feature names\n",
      "X does not have valid feature names, but ExtraTreesClassifier was fitted with feature names\n",
      "X does not have valid feature names, but ExtraTreesClassifier was fitted with feature names\n",
      "X does not have valid feature names, but ExtraTreesClassifier was fitted with feature names\n",
      "X does not have valid feature names, but ExtraTreesClassifier was fitted with feature names\n",
      "X does not have valid feature names, but ExtraTreesClassifier was fitted with feature names\n",
      "X does not have valid feature names, but ExtraTreesClassifier was fitted with feature names\n",
      "X does not have valid feature names, but ExtraTreesClassifier was fitted with feature names\n",
      "X does not have valid feature names, but ExtraTreesClassifier was fitted with feature names\n",
      "X does not have valid feature names, but ExtraTreesClassifier was fitted with feature names\n",
      "X does not have valid feature names, but ExtraTreesClassifier was fitted with feature names\n",
      "X does not have valid feature names, but ExtraTreesClassifier was fitted with feature names\n"
     ]
    },
    {
     "data": {
      "text/plain": [
       "0.9467836257309941"
      ]
     },
     "execution_count": 18,
     "metadata": {},
     "output_type": "execute_result"
    }
   ],
   "source": [
    "cross_val_score(make_pipeline(\n",
    "    make_union(\n",
    "        FunctionTransformer(copy),\n",
    "        StackingEstimator(estimator=ExtraTreesClassifier(bootstrap=True, criterion=\"gini\", max_features=0.6500000000000001, min_samples_leaf=9, min_samples_split=6, n_estimators=100))\n",
    "    ),\n",
    "    StackingEstimator(estimator=RandomForestClassifier(bootstrap=False, criterion=\"entropy\", max_features=0.9500000000000001, min_samples_leaf=5, min_samples_split=18, n_estimators=100)),\n",
    "    KNeighborsClassifier(n_neighbors=1, p=1, weights=\"uniform\")\n",
    "), training_features, training_target, cv=5, scoring='accuracy').mean()  # Possibilité de changer la métrique accuracy par une présente dans la séction classification du tableau suivant (f1_weighted par exemple) : https://scikit-learn.org/stable/modules/model_evaluation.html"
   ]
  }
 ],
 "metadata": {
  "kernelspec": {
   "display_name": "Python 3 (ipykernel)",
   "language": "python",
   "name": "python3"
  },
  "language_info": {
   "codemirror_mode": {
    "name": "ipython",
    "version": 3
   },
   "file_extension": ".py",
   "mimetype": "text/x-python",
   "name": "python",
   "nbconvert_exporter": "python",
   "pygments_lexer": "ipython3",
   "version": "3.9.12"
  }
 },
 "nbformat": 4,
 "nbformat_minor": 5
}
