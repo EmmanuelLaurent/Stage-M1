{
 "cells": [
  {
   "cell_type": "code",
   "execution_count": 2,
   "id": "490673dd",
   "metadata": {},
   "outputs": [],
   "source": [
    "import sklearn as sk\n",
    "import numpy as np\n",
    "import matplotlib.pyplot as plt\n",
    "import pandas as pd\n",
    "from sklearn.svm import SVC\n",
    "from sklearn.neighbors import KNeighborsClassifier\n",
    "from sklearn.pipeline import make_pipeline\n",
    "from sklearn.ensemble import RandomForestClassifier\n",
    "from sklearn.model_selection import train_test_split, GridSearchCV, cross_val_score\n",
    "from sklearn import metrics\n",
    "import time"
   ]
  },
  {
   "cell_type": "code",
   "execution_count": 3,
   "id": "b84e3004",
   "metadata": {},
   "outputs": [
    {
     "name": "stdout",
     "output_type": "stream",
     "text": [
      "     698.35779  700.43502  702.35706  706.3635  712.37476  836.43787  \\\n",
      "0            0          1          0         1          1          1   \n",
      "1            0          0          0         0          1          0   \n",
      "2            1          1          0         1          1          0   \n",
      "3            0          0          0         0          0          1   \n",
      "4            0          0          0         0          0          1   \n",
      "..         ...        ...        ...       ...        ...        ...   \n",
      "190          0          0          0         0          0          0   \n",
      "191          0          0          0         0          0          0   \n",
      "192          0          0          1         0          0          0   \n",
      "193          0          0          0         0          0          0   \n",
      "194          0          0          1         0          0          0   \n",
      "\n",
      "     840.43269  840.46897  852.43297  852.46926  ...  4390.05737  4411.05103  \\\n",
      "0            0          0          0          0  ...           1           0   \n",
      "1            1          0          0          1  ...           1           0   \n",
      "2            0          0          0          1  ...           1           0   \n",
      "3            0          0          0          1  ...           1           0   \n",
      "4            0          0          0          1  ...           1           0   \n",
      "..         ...        ...        ...        ...  ...         ...         ...   \n",
      "190          0          0          0          0  ...           0           0   \n",
      "191          0          0          0          0  ...           0           0   \n",
      "192          0          0          0          0  ...           0           0   \n",
      "193          0          0          0          0  ...           0           0   \n",
      "194          0          0          0          0  ...           0           0   \n",
      "\n",
      "     4426.19299  4427.03561  4440.20144  4446.08904  4456.19425  4469.09402  \\\n",
      "0             0           0           1           1           1           0   \n",
      "1             0           0           1           1           1           1   \n",
      "2             0           0           1           0           1           1   \n",
      "3             0           0           1           0           1           0   \n",
      "4             0           0           1           1           1           0   \n",
      "..          ...         ...         ...         ...         ...         ...   \n",
      "190           0           0           0           0           0           0   \n",
      "191           0           0           0           0           0           0   \n",
      "192           0           0           0           0           0           0   \n",
      "193           0           0           0           0           0           0   \n",
      "194           0           0           0           0           0           0   \n",
      "\n",
      "     4470.09741  4474.0391  \n",
      "0             1          0  \n",
      "1             0          0  \n",
      "2             0          0  \n",
      "3             0          0  \n",
      "4             1          0  \n",
      "..          ...        ...  \n",
      "190           0          0  \n",
      "191           0          0  \n",
      "192           0          0  \n",
      "193           0          0  \n",
      "194           0          0  \n",
      "\n",
      "[195 rows x 1529 columns]\n"
     ]
    }
   ],
   "source": [
    "BDD = pd.read_excel('C:/Users/orkad/Desktop/Stage M1/datasets/datasets old/Datasets-20220517T100241Z-001/Datasets/2-data_ossements/2-2/feature_table_mzwid_0.019_minfrac_0.1_no_int.xlsx')\n",
    "BDD2= BDD\n",
    "del BDD2['feature']\n",
    "y = BDD2['label']\n",
    "X = BDD2.drop('label',axis=1)\n",
    "print(X)"
   ]
  },
  {
   "cell_type": "code",
   "execution_count": 6,
   "id": "f276b754",
   "metadata": {},
   "outputs": [],
   "source": [
    "X_train, X_test, y_train, y_test = train_test_split(X, y, train_size=0.80, test_size=0.20, stratify=y)"
   ]
  },
  {
   "cell_type": "code",
   "execution_count": 7,
   "id": "da2c2cdb",
   "metadata": {},
   "outputs": [],
   "source": [
    "SVM=SVC()\n",
    "KNN= KNeighborsClassifier()\n",
    "CLF = RandomForestClassifier(n_estimators=100, random_state=0)\n",
    "models=[SVM,KNN,CLF]"
   ]
  },
  {
   "cell_type": "code",
   "execution_count": 8,
   "id": "705291b1",
   "metadata": {},
   "outputs": [
    {
     "name": "stdout",
     "output_type": "stream",
     "text": [
      "0.9487179487179487\n",
      "              precision    recall  f1-score   support\n",
      "\n",
      "       birds       1.00      0.75      0.86         4\n",
      "       fishs       1.00      0.83      0.91         6\n",
      "     mammals       0.94      1.00      0.97        29\n",
      "\n",
      "    accuracy                           0.95        39\n",
      "   macro avg       0.98      0.86      0.91        39\n",
      "weighted avg       0.95      0.95      0.95        39\n",
      "\n",
      "0.9230769230769231\n",
      "              precision    recall  f1-score   support\n",
      "\n",
      "       birds       1.00      0.50      0.67         4\n",
      "       fishs       1.00      0.83      0.91         6\n",
      "     mammals       0.91      1.00      0.95        29\n",
      "\n",
      "    accuracy                           0.92        39\n",
      "   macro avg       0.97      0.78      0.84        39\n",
      "weighted avg       0.93      0.92      0.92        39\n",
      "\n",
      "1.0\n",
      "              precision    recall  f1-score   support\n",
      "\n",
      "       birds       1.00      1.00      1.00         4\n",
      "       fishs       1.00      1.00      1.00         6\n",
      "     mammals       1.00      1.00      1.00        29\n",
      "\n",
      "    accuracy                           1.00        39\n",
      "   macro avg       1.00      1.00      1.00        39\n",
      "weighted avg       1.00      1.00      1.00        39\n",
      "\n"
     ]
    }
   ],
   "source": [
    "for model in models:\n",
    "    model.fit(X_train,y_train)\n",
    "    y_pred = model.predict(X_test)\n",
    "    print(model.score(X_test,y_test))\n",
    "    print(metrics.classification_report(y_test, y_pred))"
   ]
  },
  {
   "cell_type": "code",
   "execution_count": 6,
   "id": "2c7d61b8",
   "metadata": {},
   "outputs": [
    {
     "data": {
      "text/plain": [
       "[SVC(), KNeighborsClassifier(), RandomForestClassifier(random_state=0)]"
      ]
     },
     "execution_count": 6,
     "metadata": {},
     "output_type": "execute_result"
    }
   ],
   "source": [
    "models"
   ]
  },
  {
   "cell_type": "code",
   "execution_count": 70,
   "id": "aa9d74af",
   "metadata": {},
   "outputs": [],
   "source": [
    "start_time = time.time()\n",
    "importances = CLF.feature_importances_\n",
    "std = np.std([tree.feature_importances_ for tree in CLF.estimators_], axis=0)\n",
    "elapsed_time = time.time() - start_time\n"
   ]
  },
  {
   "cell_type": "code",
   "execution_count": null,
   "id": "75912072",
   "metadata": {},
   "outputs": [],
   "source": []
  },
  {
   "cell_type": "code",
   "execution_count": null,
   "id": "b1bd28aa",
   "metadata": {},
   "outputs": [],
   "source": []
  }
 ],
 "metadata": {
  "kernelspec": {
   "display_name": "Python 3 (ipykernel)",
   "language": "python",
   "name": "python3"
  },
  "language_info": {
   "codemirror_mode": {
    "name": "ipython",
    "version": 3
   },
   "file_extension": ".py",
   "mimetype": "text/x-python",
   "name": "python",
   "nbconvert_exporter": "python",
   "pygments_lexer": "ipython3",
   "version": "3.9.12"
  }
 },
 "nbformat": 4,
 "nbformat_minor": 5
}
