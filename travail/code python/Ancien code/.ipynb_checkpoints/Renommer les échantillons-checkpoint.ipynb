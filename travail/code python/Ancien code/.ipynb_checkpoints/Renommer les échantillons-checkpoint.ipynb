{
 "cells": [
  {
   "cell_type": "code",
   "execution_count": null,
   "id": "7da5814c",
   "metadata": {},
   "outputs": [],
   "source": [
    "import numpy as np\n",
    "import pandas as pd\n",
    "from sklearn.ensemble import ExtraTreesClassifier, RandomForestClassifier\n",
    "from sklearn.model_selection import train_test_split\n",
    "from sklearn.neighbors import KNeighborsClassifier\n",
    "from sklearn.pipeline import make_pipeline, make_union\n",
    "from tpot.builtins import StackingEstimator\n",
    "from sklearn.preprocessing import FunctionTransformer\n",
    "from copy import copy\n",
    "#Modifier en fonction du pipelines"
   ]
  },
  {
   "cell_type": "markdown",
   "id": "718cbcfb",
   "metadata": {},
   "source": [
    "# Import de la bdd"
   ]
  },
  {
   "cell_type": "code",
   "execution_count": null,
   "id": "2853ee46",
   "metadata": {},
   "outputs": [],
   "source": [
    "df = pd.read_csv('C:/Users/orkad/Desktop/stage M1/datasets/datasets fonctionnels/cervus/data_cervus.csv')\n",
    "#df = pd.read_csv('C:/Users/orkad/Desktop/stage M1/datasets/datasets fonctionnels/cervus/data_bos.csv')\n",
    "#df = pd.read_csv('C:/Users/orkad/Desktop/stage M1/datasets/datasets fonctionnels/cervus/data_sus.csv')\n",
    "df = df.rename(columns = {'Unnamed: 0': 'label'})\n",
    "df = df.fillna(0) "
   ]
  },
  {
   "cell_type": "markdown",
   "id": "d03eb3f5",
   "metadata": {},
   "source": [
    "# Rennomage des échantillons"
   ]
  },
  {
   "cell_type": "markdown",
   "id": "3ff64dbd",
   "metadata": {},
   "source": [
    "## Choisir en fonction de la BDD"
   ]
  },
  {
   "cell_type": "code",
   "execution_count": null,
   "id": "1fb36f73",
   "metadata": {},
   "outputs": [],
   "source": [
    "n = len(df.index)\n",
    "x = 0\n",
    "while x < n:\n",
    "    a = 'cerf' in df.iloc[x,0]\n",
    "    b = 'daim' in df.iloc[x,0]\n",
    "    c = 'meagC' in df.iloc[x,0]\n",
    "    if a == True :\n",
    "        df.iloc[x,0] = 'cerf'\n",
    "    elif b == True :\n",
    "        df.iloc[x,0] = 'daim'\n",
    "        \n",
    "    elif c == True :\n",
    "        df.iloc[x,0] = 'meagC'\n",
    "    else:\n",
    "        df.iloc[x,0] = 'Autre' \n",
    "    x = x+1       "
   ]
  },
  {
   "cell_type": "raw",
   "id": "2572df3a",
   "metadata": {},
   "source": [
    "n = len(df.index)\n",
    "x = 0\n",
    "while x < n:\n",
    "    a = 'boeuf' in df.iloc[x,0]\n",
    "    b = 'B1' in df.iloc[x,0] \n",
    "    c = 'B2' in df.iloc[x,0]\n",
    "    d = 'B3' in df.iloc[x,0]\n",
    "    e = 'B4' in df.iloc[x,0]\n",
    "    f = 'B5' in df.iloc[x,0]\n",
    "    g = 'B6' in df.iloc[x,0]\n",
    "    h = 'auroch' in df.iloc[x,0]\n",
    "    i = 'C1' in df.iloc[x,0]\n",
    "    j = 'C2' in df.iloc[x,0]\n",
    "    k = 'C3' in df.iloc[x,0]\n",
    "    l = 'C4' in df.iloc[x,0]\n",
    "    m = 'C5' in df.iloc[x,0]\n",
    "    o = 'C6' in df.iloc[x,0]\n",
    "    if a or b or c or d or e or f or g == True :\n",
    "        df.iloc[x,0] = 'boeuf'\n",
    "    elif h or i or j or k or l or m or o== True :\n",
    "        df.iloc[x,0] = 'auroch'\n",
    "    else:\n",
    "        df.iloc[x,0] = 'autre' \n",
    "    x = x+1"
   ]
  },
  {
   "cell_type": "raw",
   "id": "db921f8f",
   "metadata": {},
   "source": [
    "n = len(df.index)\n",
    "\n",
    "x = 0\n",
    "while x < n:\n",
    "    a = 'porc' in df.iloc[x,0]\n",
    "    b = 'sanglier' in df.iloc[x,0]\n",
    "    if a == True :\n",
    "        df.iloc[x,0] = 'porc'\n",
    "    if b == True :\n",
    "        df.iloc[x,0] = 'sanglier'\n",
    "    else:\n",
    "        df.iloc[x,0] = 'autre'\n",
    "    x = x+1"
   ]
  },
  {
   "cell_type": "code",
   "execution_count": null,
   "id": "b6ae12cd",
   "metadata": {},
   "outputs": [],
   "source": [
    "df"
   ]
  },
  {
   "cell_type": "code",
   "execution_count": null,
   "id": "26c7de97",
   "metadata": {},
   "outputs": [],
   "source": []
  },
  {
   "cell_type": "code",
   "execution_count": null,
   "id": "445a37ca",
   "metadata": {},
   "outputs": [],
   "source": []
  },
  {
   "cell_type": "code",
   "execution_count": null,
   "id": "6c753e11",
   "metadata": {},
   "outputs": [],
   "source": []
  },
  {
   "cell_type": "code",
   "execution_count": null,
   "id": "f9623c41",
   "metadata": {},
   "outputs": [],
   "source": []
  },
  {
   "cell_type": "code",
   "execution_count": null,
   "id": "7d7a0aa1",
   "metadata": {},
   "outputs": [],
   "source": []
  },
  {
   "cell_type": "code",
   "execution_count": null,
   "id": "6857bed4",
   "metadata": {},
   "outputs": [],
   "source": []
  }
 ],
 "metadata": {
  "kernelspec": {
   "display_name": "Python 3 (ipykernel)",
   "language": "python",
   "name": "python3"
  },
  "language_info": {
   "codemirror_mode": {
    "name": "ipython",
    "version": 3
   },
   "file_extension": ".py",
   "mimetype": "text/x-python",
   "name": "python",
   "nbconvert_exporter": "python",
   "pygments_lexer": "ipython3",
   "version": "3.9.12"
  }
 },
 "nbformat": 4,
 "nbformat_minor": 5
}
